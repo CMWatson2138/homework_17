{
 "cells": [
  {
   "cell_type": "markdown",
   "metadata": {},
   "source": [
    "### What are underfitting and overfitting? How do you avoid them?"
   ]
  },
  {
   "cell_type": "markdown",
   "metadata": {},
   "source": [
    "Overfitting is when the ml model learns all of the details and the noise of the training data and so performs really well on the training data, but does poorly on the testing data.  Underfitting is when an ml model performs poorly on both the test and training data. Overfitting can be avoided by holding back some of the data to be tested or by resampling.  Underfitting can be avoided by using more data or reducing features through feature selection."
   ]
  },
  {
   "cell_type": "markdown",
   "metadata": {},
   "source": [
    "### What is cross validation?"
   ]
  },
  {
   "cell_type": "markdown",
   "metadata": {},
   "source": [
    "Cross validation is a method for assessing the accuracy of a model. When you use cross validation you run the model using a number of subsets of the data and compare the performance of the various subsets.  You can estimate accuracy using an average of the different modeling results."
   ]
  },
  {
   "cell_type": "markdown",
   "metadata": {},
   "source": [
    "### What is an ROC curve? Why is it useful over simply using the true positive and false positive rates?"
   ]
  },
  {
   "cell_type": "markdown",
   "metadata": {},
   "source": [
    "It is a visualization of the accuracy of a model detailing the true positive rates vs the false positive rates at different classification threshholds."
   ]
  },
  {
   "cell_type": "markdown",
   "metadata": {},
   "source": [
    "### What is AUC and what does it tell us?"
   ]
  },
  {
   "cell_type": "markdown",
   "metadata": {},
   "source": [
    "Area under curve - the area where datapoints are correctly classified"
   ]
  },
  {
   "cell_type": "markdown",
   "metadata": {},
   "source": [
    "### From the DataCamp what do you know about Ensemble Methods?"
   ]
  },
  {
   "cell_type": "markdown",
   "metadata": {},
   "source": [
    "Using an ensemble method you run lots of different types of models and each one gets a vote on the correct classification for a datapoint."
   ]
  }
 ],
 "metadata": {
  "kernelspec": {
   "display_name": "Python 3",
   "language": "python",
   "name": "python3"
  },
  "language_info": {
   "codemirror_mode": {
    "name": "ipython",
    "version": 3
   },
   "file_extension": ".py",
   "mimetype": "text/x-python",
   "name": "python",
   "nbconvert_exporter": "python",
   "pygments_lexer": "ipython3",
   "version": "3.8.5"
  }
 },
 "nbformat": 4,
 "nbformat_minor": 4
}
